{
  "nbformat": 4,
  "nbformat_minor": 0,
  "metadata": {
    "colab": {
      "provenance": [],
      "gpuType": "T4",
      "authorship_tag": "ABX9TyN41ykQrko0cvub/lKQk7SE",
      "include_colab_link": true
    },
    "kernelspec": {
      "name": "python3",
      "display_name": "Python 3"
    },
    "language_info": {
      "name": "python"
    },
    "accelerator": "GPU"
  },
  "cells": [
    {
      "cell_type": "markdown",
      "metadata": {
        "id": "view-in-github",
        "colab_type": "text"
      },
      "source": [
        "<a href=\"https://colab.research.google.com/github/chakrateja70/AIChatBot/blob/main/ClaudeAgent.ipynb\" target=\"_parent\"><img src=\"https://colab.research.google.com/assets/colab-badge.svg\" alt=\"Open In Colab\"/></a>"
      ]
    },
    {
      "cell_type": "markdown",
      "source": [
        "# *Required Pacakges*"
      ],
      "metadata": {
        "id": "oHXTGY-_m4oy"
      }
    },
    {
      "cell_type": "code",
      "source": [
        "!pip install langchain langchain_anthropic pinecone pinecone-client anthropic voyageai langchain-voyageai python-dotenv pypdf langchain-community datasets langchain_openai\n"
      ],
      "metadata": {
        "id": "0CkiYOvMm2Q1",
        "collapsed": true
      },
      "execution_count": null,
      "outputs": []
    },
    {
      "cell_type": "markdown",
      "source": [
        "***Retrieving API Keys from Userdata***"
      ],
      "metadata": {
        "id": "W8V9DRavgVZD"
      }
    },
    {
      "cell_type": "code",
      "source": [
        "from google.colab import userdata\n",
        "userdata.get('PINECONE_API_KEY')\n",
        "userdata.get('ANTHROPIC_API_KEY')\n",
        "userdata.get('VOYAGE_API_KEY')"
      ],
      "metadata": {
        "id": "-QMROkntuwAM",
        "collapsed": true
      },
      "execution_count": null,
      "outputs": []
    },
    {
      "cell_type": "code",
      "source": [
        "from langchain_community.document_loaders import PyPDFLoader, Docx2txtLoader\n",
        "from langchain_text_splitters import RecursiveCharacterTextSplitter\n",
        "from typing import List\n",
        "from langchain_core.documents import Document\n",
        "import os\n",
        "\n",
        "def load_documents(folder_path: str) -> List[Document]:\n",
        "    pages = []\n",
        "    for filename in os.listdir(folder_path):\n",
        "        file_path = os.path.join(folder_path, filename)\n",
        "        if filename.endswith('.pdf'):\n",
        "            loader = PyPDFLoader(file_path)\n",
        "        elif filename.endswith('.docx'):\n",
        "            loader = Docx2txtLoader(file_path)\n",
        "        else:\n",
        "            print(f\"Unsupported file type: {filename}\")\n",
        "            continue\n",
        "        pages.extend(loader.load())\n",
        "    return pages\n",
        "\n",
        "folder_path = \"/content/\"\n",
        "pages = load_documents(folder_path)\n",
        "print(f\"Loaded {len(pages)} documents from the folder.\")\n"
      ],
      "metadata": {
        "id": "DXnMV0qZuR-w"
      },
      "execution_count": null,
      "outputs": []
    },
    {
      "cell_type": "code",
      "source": [
        "from langchain_text_splitters import RecursiveCharacterTextSplitter\n",
        "\n",
        "text_splitter = RecursiveCharacterTextSplitter(\n",
        "    chunk_size=100,\n",
        "    chunk_overlap=30,\n",
        "    length_function=len,\n",
        "    is_separator_regex=False,\n",
        ")\n",
        "splits = text_splitter.split_documents(pages)\n",
        "print(f\"split the document into  {len(splits)} chunks.\")"
      ],
      "metadata": {
        "id": "gV8UrlqGRgT4"
      },
      "execution_count": null,
      "outputs": []
    },
    {
      "cell_type": "code",
      "source": [
        "from langchain_community.embeddings.sentence_transformer import SentenceTransformerEmbeddings\n",
        "\n",
        "embedding_function = SentenceTransformerEmbeddings(model_name=\"all-MiniLM-L6-v2\")\n",
        "document_embeddings = embedding_function.embed_documents([split.page_content for split in splits])\n",
        "\n",
        "document_embeddings"
      ],
      "metadata": {
        "collapsed": true,
        "id": "ZtDGRK58S67z"
      },
      "execution_count": null,
      "outputs": []
    },
    {
      "cell_type": "markdown",
      "source": [
        "***NOTE:*** If you get error regarding index, create index manually ( dimensions= 384)\n"
      ],
      "metadata": {
        "id": "Pi5Bnens-9yS"
      }
    },
    {
      "cell_type": "code",
      "source": [
        "import os\n",
        "from langchain.vectorstores import Pinecone\n",
        "from langchain_community.embeddings import HuggingFaceEmbeddings\n",
        "from pinecone import Pinecone, ServerlessSpec\n",
        "\n",
        "pinecone_api_key = \"your pinecone api_key\"\n",
        "os.environ[\"PINECONE_API_KEY\"] = pinecone_api_key\n",
        "\n",
        "pc = Pinecone(api_key=pinecone_api_key)\n",
        "\n",
        "index_name = \"agentindexx\"\n",
        "\n",
        "\n",
        "if index_name not in pc.list_indexes().names():\n",
        "    print(f\"Index '{index_name}' does not exist. Creating a new index...\")\n",
        "\n",
        "    pc.create_index(\n",
        "        name=index_name,\n",
        "        dimension=384,\n",
        "        spec=ServerlessSpec(\n",
        "            cloud=\"aws\",\n",
        "            region=\"us-east-1\"\n",
        "        )\n",
        "    )\n",
        "    print(f\"Index '{index_name}' created successfully!\")\n",
        "else:\n",
        "    print(f\"Index '{index_name}' already exists.\")\n",
        "\n",
        "from langchain_community.embeddings import HuggingFaceEmbeddings\n",
        "embedding_function = HuggingFaceEmbeddings(model_name=\"all-MiniLM-L6-v2\")\n",
        "\n",
        "from langchain.vectorstores import Pinecone\n",
        "vectordb = Pinecone.from_documents(\n",
        "    documents=splits,\n",
        "    embedding=embedding_function,\n",
        "    index_name=index_name,\n",
        ")\n",
        "\n",
        "print(f\"Data successfully stored in Pinecone under index '{index_name}'!\")"
      ],
      "metadata": {
        "id": "spaDdjIqMJe8"
      },
      "execution_count": null,
      "outputs": []
    },
    {
      "cell_type": "code",
      "source": [
        "import requests\n",
        "from langchain.chains import RetrievalQA\n",
        "from langchain.llms import BaseLLM\n",
        "from pydantic import BaseModel\n",
        "from langchain.schema import LLMResult, Generation\n",
        "\n",
        "class GeminiAPI(BaseLLM, BaseModel):\n",
        "    model_name: str\n",
        "    api_key: str\n",
        "    api_url: str = \"https://api.gemini.com/v2/flash-model\"\n",
        "\n",
        "    def __init__(self, api_key: str, model_name: str = \"gemini-2.0-flash\"):\n",
        "        super().__init__(api_key=api_key, model_name=model_name)\n",
        "\n",
        "    def _call(self, prompt: str, **kwargs) -> str:\n",
        "        response = requests.post(\n",
        "            self.api_url,\n",
        "            json={\"model\": self.model_name, \"input\": prompt},\n",
        "            headers={\"Authorization\": f\"Bearer {self.api_key}\"}\n",
        "        )\n",
        "        response_data = response.json()\n",
        "        return response_data.get(\"output\", \"\")\n",
        "\n",
        "    def _generate(self, prompt: str, **kwargs):\n",
        "        response_text = self._call(prompt, **kwargs)\n",
        "\n",
        "        if not response_text.strip():\n",
        "            response_text = \"No valid response received from the model.\"\n",
        "\n",
        "        generation = Generation(text=response_text)\n",
        "        return LLMResult(generations=[[generation]])\n",
        "\n",
        "    @property\n",
        "    def _llm_type(self):\n",
        "        return \"GeminiAPI\"\n",
        "\n",
        "api_key = \"your_gemini_api_key\"\n",
        "\n",
        "gemini_model = GeminiAPI(api_key=api_key)\n",
        "\n",
        "retriever = vectordb.as_retriever()\n",
        "\n",
        "rag_chain = RetrievalQA.from_chain_type(\n",
        "    llm=gemini_model,\n",
        "    retriever=retriever,\n",
        "    return_source_documents=True\n",
        ")\n",
        "\n",
        "print(\"RAG pipeline successfully set up with Gemini 2.0 model!\")\n",
        "\n",
        "\n"
      ],
      "metadata": {
        "id": "uxQ3tO5KHBrX"
      },
      "execution_count": null,
      "outputs": []
    },
    {
      "cell_type": "code",
      "source": [
        "from transformers import pipeline\n",
        "from langchain.chains import RetrievalQA\n",
        "from langchain.llms import HuggingFacePipeline\n",
        "\n",
        "model_name = \"google/flan-t5-large\"\n",
        "llm_pipeline = pipeline(\"text2text-generation\", model=model_name, tokenizer=model_name)\n",
        "\n",
        "llm = HuggingFacePipeline(pipeline=llm_pipeline)\n",
        "\n",
        "retriever = vectordb.as_retriever()\n",
        "\n",
        "rag_chain = RetrievalQA.from_chain_type(\n",
        "    llm=llm,\n",
        "    retriever=retriever,\n",
        "    return_source_documents=True\n",
        ")\n",
        "\n",
        "print(\"RAG pipeline successfully set up with Hugging Face model!\")"
      ],
      "metadata": {
        "id": "ohdchEqMFy0H",
        "collapsed": true
      },
      "execution_count": null,
      "outputs": []
    },
    {
      "cell_type": "code",
      "source": [
        "\n",
        "query = \"your query here ?\"\n",
        "response = rag_chain.invoke({\"query\": query})\n",
        "\n",
        "answer = response.get(\"result\", \"No relevant information found in the knowledge base.\")\n",
        "\n",
        "print(\"Answer:\", answer)\n"
      ],
      "metadata": {
        "id": "tY8MUf1mB2rO"
      },
      "execution_count": null,
      "outputs": []
    }
  ]
}